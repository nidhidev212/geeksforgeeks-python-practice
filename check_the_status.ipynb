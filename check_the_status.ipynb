{
  "nbformat": 4,
  "nbformat_minor": 0,
  "metadata": {
    "colab": {
      "provenance": []
    },
    "kernelspec": {
      "name": "python3",
      "display_name": "Python 3"
    },
    "language_info": {
      "name": "python"
    }
  },
  "cells": [
    {
      "cell_type": "code",
      "execution_count": 1,
      "metadata": {
        "colab": {
          "base_uri": "https://localhost:8080/"
        },
        "id": "bXm7r9kSjJQ0",
        "outputId": "7448a6b7-c52a-4253-e4a3-6a647ade02c3"
      },
      "outputs": [
        {
          "output_type": "stream",
          "name": "stdout",
          "text": [
            "enter the number:55\n",
            "enter the number:23\n",
            "True\n"
          ]
        }
      ],
      "source": [
        "a=int(input(\"enter the number:\"))\n",
        "b=int(input(\"enter the number:\"))\n",
        "if a>0 and b>0:\n",
        "        print(\"True\")\n",
        "elif a<0 and b<0:\n",
        "        print(\"True\")\n",
        "else:\n",
        "        print(\"False\")"
      ]
    },
    {
      "cell_type": "code",
      "source": [],
      "metadata": {
        "id": "jlJwr4aajLr2"
      },
      "execution_count": null,
      "outputs": []
    }
  ]
}